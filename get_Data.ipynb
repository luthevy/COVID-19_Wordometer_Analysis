{
 "cells": [
  {
   "cell_type": "markdown",
   "id": "d503edf2-fd10-4f75-b98c-06622d1fa99f",
   "metadata": {},
   "source": [
    "# import thư viện"
   ]
  },
  {
   "cell_type": "code",
   "execution_count": 3,
   "id": "fdf8f190-36a1-4474-9d76-c2eab48cd1cb",
   "metadata": {},
   "outputs": [],
   "source": [
    "import requests \n",
    "import json\n",
    "import csv\n",
    "from datetime import datetime\n",
    "import pandas as pd\n",
    "from pandas import json_normalize\n",
    "from pprint import pprint"
   ]
  },
  {
   "cell_type": "markdown",
   "id": "173a93f2-3d09-426d-b245-564c179bca7b",
   "metadata": {},
   "source": [
    "# lưu dữ liệu gốc (updated: 12/12/2021)\n",
    "______________________________________________"
   ]
  },
  {
   "cell_type": "markdown",
   "id": "e4b953fe-4209-41d2-8241-e7c56883c935",
   "metadata": {},
   "source": [
    "### world/original/today"
   ]
  },
  {
   "cell_type": "code",
   "execution_count": 4,
   "id": "40f4de2d-d865-4c60-bb7b-4fa6bab72374",
   "metadata": {},
   "outputs": [],
   "source": [
    "url = \"https://disease.sh/v3/covid-19/all\"\n",
    "payload = {}\n",
    "headers = {}\n",
    "response = requests.request(\"GET\", url, headers=headers, data=payload)\n",
    "\n",
    "with open('result.json', 'w', encoding='utf-8') as f:\n",
    "    f.write(json.dumps(response.text))\n",
    "\n",
    "with open('result.json') as file_object:\n",
    "    data = json.load(file_object)\n",
    "\n",
    "d = json.loads(data)\n",
    "with open('result.json', 'w', encoding='utf-8') as f:\n",
    "    f.write(json.dumps(d))\n",
    "\n",
    "with open('result.json') as f:\n",
    "    data = json.load(f)\n",
    "\n",
    "df = json_normalize(data)\n",
    "df.to_csv('data/world/original/today.csv', index=False)"
   ]
  },
  {
   "cell_type": "markdown",
   "id": "f87b84ef-1b14-4692-a7d7-80f98f7577b3",
   "metadata": {},
   "source": [
    "### world/original/yesterday"
   ]
  },
  {
   "cell_type": "code",
   "execution_count": null,
   "id": "7be577a1-e553-457f-ae3f-71e06c0b44da",
   "metadata": {},
   "outputs": [],
   "source": [
    "url = \"https://disease.sh/v3/covid-19/all?yesterday=true\"\n",
    "payload = {}\n",
    "headers = {}\n",
    "response = requests.request(\"GET\", url, headers=headers, data=payload)\n",
    "\n",
    "with open('result.json', 'w', encoding='utf-8') as f:\n",
    "    f.write(json.dumps(response.text))\n",
    "\n",
    "with open('result.json') as file_object:\n",
    "    data = json.load(file_object)\n",
    "\n",
    "d = json.loads(data)\n",
    "with open('result.json', 'w', encoding='utf-8') as f:\n",
    "    f.write(json.dumps(d))\n",
    "\n",
    "with open('result.json') as f:\n",
    "    data = json.load(f)\n",
    "\n",
    "df = json_normalize(data)\n",
    "df.to_csv('data/world/original/yesterday.csv', index=False)"
   ]
  },
  {
   "cell_type": "markdown",
   "id": "240cf416-a42c-41c1-85d3-78cadee6530e",
   "metadata": {},
   "source": [
    "### world/original/twoDaysAgo"
   ]
  },
  {
   "cell_type": "code",
   "execution_count": null,
   "id": "3d72e2aa-5c23-4c10-9255-ce837d7b99ee",
   "metadata": {},
   "outputs": [],
   "source": [
    "url = \"https://disease.sh/v3/covid-19/all?twoDaysAgo=true\"\n",
    "payload = {}\n",
    "headers = {}\n",
    "response = requests.request(\"GET\", url, headers=headers, data=payload)\n",
    "\n",
    "with open('result.json', 'w', encoding='utf-8') as f:\n",
    "    f.write(json.dumps(response.text))\n",
    "\n",
    "with open('result.json') as file_object:\n",
    "    data = json.load(file_object)\n",
    "\n",
    "d = json.loads(data)\n",
    "with open('result.json', 'w', encoding='utf-8') as f:\n",
    "    f.write(json.dumps(d))\n",
    "\n",
    "with open('result.json') as f:\n",
    "    data = json.load(f)\n",
    "\n",
    "df = json_normalize(data)\n",
    "df.to_csv('data/world/original/twoDaysAgo.csv', index=False)"
   ]
  },
  {
   "cell_type": "markdown",
   "id": "65f8aa36-686d-4f9e-9d2b-1424b251b8f2",
   "metadata": {},
   "source": [
    "### world/original/lastdays"
   ]
  },
  {
   "cell_type": "code",
   "execution_count": 2,
   "id": "0203811d-26a6-424b-b67f-2f0506a6ed0f",
   "metadata": {},
   "outputs": [],
   "source": [
    "url = \"https://corona.lmao.ninja/v2/historical/all?lastdays=30\"\n",
    "payload = {}\n",
    "headers = {}\n",
    "response = requests.request(\"GET\", url, headers=headers, data=payload)\n",
    "\n",
    "with open('result.json', 'w', encoding='utf-8') as f:\n",
    "    f.write(json.dumps(response.text))\n",
    "\n",
    "with open('result.json') as file_object:\n",
    "    data = json.load(file_object)\n",
    "\n",
    "d = json.loads(data)\n",
    "with open('result.json', 'w', encoding='utf-8') as f:\n",
    "    f.write(json.dumps(d))\n",
    "\n",
    "with open('result.json') as f:\n",
    "    data = json.load(f)\n",
    "\n",
    "df = json_normalize(data)\n",
    "df.to_csv('data/world/original/lastdays.csv', index=False)"
   ]
  },
  {
   "cell_type": "markdown",
   "id": "ca3fb22c-967a-4590-86fc-9fc136d6b08c",
   "metadata": {},
   "source": [
    "### countries/original/today"
   ]
  },
  {
   "cell_type": "code",
   "execution_count": 5,
   "id": "eecc9b41-0499-481d-904f-ed279b11ebf6",
   "metadata": {},
   "outputs": [],
   "source": [
    "url = \"https://disease.sh/v3/covid-19/countries?\"\n",
    "payload = {}\n",
    "headers = {}\n",
    "response = requests.request(\"GET\", url, headers=headers, data=payload)\n",
    "\n",
    "with open('result.json', 'w', encoding='utf-8') as f:\n",
    "    f.write(json.dumps(response.text))\n",
    "\n",
    "with open('result.json') as file_object:\n",
    "    data = json.load(file_object)\n",
    "\n",
    "d = json.loads(data)\n",
    "with open('result.json', 'w', encoding='utf-8') as f:\n",
    "    f.write(json.dumps(d))\n",
    "\n",
    "with open('result.json') as f:\n",
    "    data = json.load(f)\n",
    "\n",
    "df = json_normalize(data)\n",
    "df.to_csv('data/world/original/countries.csv', index=False)"
   ]
  },
  {
   "cell_type": "markdown",
   "id": "9a4313f0-d990-496b-9262-3c650f5450b6",
   "metadata": {},
   "source": [
    "### asia/original/today"
   ]
  },
  {
   "cell_type": "code",
   "execution_count": null,
   "id": "c8deef89-9f8e-4d74-b000-6bac13d6fb31",
   "metadata": {},
   "outputs": [],
   "source": [
    "url = 'https://disease.sh/v3/covid-19/continents/asia?'\n",
    "payload = {}\n",
    "headers = {}\n",
    "response = requests.request(\"GET\", url, headers=headers, data=payload)\n",
    "\n",
    "with open('result.json', 'w', encoding='utf-8') as f:\n",
    "    f.write(json.dumps(response.text))\n",
    "\n",
    "with open('result.json') as file_object:\n",
    "    data = json.load(file_object)\n",
    "\n",
    "d = json.loads(data)\n",
    "with open('result.json', 'w', encoding='utf-8') as f:\n",
    "    f.write(json.dumps(d))\n",
    "\n",
    "with open('result.json') as f:\n",
    "    data = json.load(f)\n",
    "    \n",
    "df = json_normalize(data)\n",
    "df.to_csv('data/continents/asia/original/today.csv', index=False)"
   ]
  },
  {
   "cell_type": "markdown",
   "id": "66b50a1e-fb23-49f4-b468-c62b0632fa3d",
   "metadata": {},
   "source": [
    "### asia/original/yesterday"
   ]
  },
  {
   "cell_type": "code",
   "execution_count": null,
   "id": "a4a166be-fd3b-4d09-875e-e03e5c35bbc9",
   "metadata": {},
   "outputs": [],
   "source": [
    "url = 'https://disease.sh/v3/covid-19/continents/asia?yesterday=true'\n",
    "payload = {}\n",
    "headers = {}\n",
    "response = requests.request(\"GET\", url, headers=headers, data=payload)\n",
    "\n",
    "with open('result.json', 'w', encoding='utf-8') as f:\n",
    "    f.write(json.dumps(response.text))\n",
    "\n",
    "with open('result.json') as file_object:\n",
    "    data = json.load(file_object)\n",
    "\n",
    "d = json.loads(data)\n",
    "with open('result.json', 'w', encoding='utf-8') as f:\n",
    "    f.write(json.dumps(d))\n",
    "\n",
    "with open('result.json') as f:\n",
    "    data = json.load(f)\n",
    "    \n",
    "df = json_normalize(data)\n",
    "df.to_csv('data/continents/asia/original/yesterday.csv', index=False)"
   ]
  },
  {
   "cell_type": "markdown",
   "id": "792e6eba-4050-4bcf-9eec-5860c417d0b5",
   "metadata": {},
   "source": [
    "### asia/original/twoDaysAgo"
   ]
  },
  {
   "cell_type": "code",
   "execution_count": null,
   "id": "13dd61ec-4444-41ad-bfbf-b9257ef51629",
   "metadata": {},
   "outputs": [],
   "source": [
    "url = 'https://disease.sh/v3/covid-19/continents/asia?twoDaysAgo=true'\n",
    "payload = {}\n",
    "headers = {}\n",
    "response = requests.request(\"GET\", url, headers=headers, data=payload)\n",
    "\n",
    "with open('result.json', 'w', encoding='utf-8') as f:\n",
    "    f.write(json.dumps(response.text))\n",
    "\n",
    "with open('result.json') as file_object:\n",
    "    data = json.load(file_object)\n",
    "\n",
    "d = json.loads(data)\n",
    "with open('result.json', 'w', encoding='utf-8') as f:\n",
    "    f.write(json.dumps(d))\n",
    "\n",
    "with open('result.json') as f:\n",
    "    data = json.load(f)\n",
    "    \n",
    "df = json_normalize(data)\n",
    "# df.drop(list(df.filter(regex = 'province')), axis = 1, inplace = True)\n",
    "df.to_csv('data/continents/asia/original/twoDaysAgo.csv', index=False)\n",
    "\n",
    "# csv_file = open(\"data.csv\", \"w\")\n",
    "# writer = csv.writer(csv_file)\n",
    "# for key, value in data.items():\n",
    "#     writer.writerow([key, value])\n",
    "# csv_file.close()\n"
   ]
  },
  {
   "cell_type": "markdown",
   "id": "583edcd5-bb84-4cd7-a1d3-60f1a18db8d3",
   "metadata": {},
   "source": [
    "### africa/original/today"
   ]
  },
  {
   "cell_type": "code",
   "execution_count": null,
   "id": "c8f69b87-c1ed-458c-8ad8-da27d307071c",
   "metadata": {},
   "outputs": [],
   "source": [
    "url = 'https://disease.sh/v3/covid-19/continents/africa?'\n",
    "payload = {}\n",
    "headers = {}\n",
    "response = requests.request(\"GET\", url, headers=headers, data=payload)\n",
    "\n",
    "with open('result.json', 'w', encoding='utf-8') as f:\n",
    "    f.write(json.dumps(response.text))\n",
    "\n",
    "with open('result.json') as file_object:\n",
    "    data = json.load(file_object)\n",
    "\n",
    "d = json.loads(data)\n",
    "with open('result.json', 'w', encoding='utf-8') as f:\n",
    "    f.write(json.dumps(d))\n",
    "\n",
    "with open('result.json') as f:\n",
    "    data = json.load(f)\n",
    "    \n",
    "df = json_normalize(data)\n",
    "df.to_csv('data/continents/africa/original/today.csv', index=False)"
   ]
  },
  {
   "cell_type": "markdown",
   "id": "b2a16d10-5fd2-4990-8944-a0ccb3b8d122",
   "metadata": {},
   "source": [
    "### africa/original/yesterday"
   ]
  },
  {
   "cell_type": "code",
   "execution_count": null,
   "id": "505d3e02-9309-489f-ac4c-4fad236325b3",
   "metadata": {},
   "outputs": [],
   "source": [
    "url = 'https://disease.sh/v3/covid-19/continents/africa?yesterday=true'\n",
    "payload = {}\n",
    "headers = {}\n",
    "response = requests.request(\"GET\", url, headers=headers, data=payload)\n",
    "\n",
    "with open('result.json', 'w', encoding='utf-8') as f:\n",
    "    f.write(json.dumps(response.text))\n",
    "\n",
    "with open('result.json') as file_object:\n",
    "    data = json.load(file_object)\n",
    "\n",
    "d = json.loads(data)\n",
    "with open('result.json', 'w', encoding='utf-8') as f:\n",
    "    f.write(json.dumps(d))\n",
    "\n",
    "with open('result.json') as f:\n",
    "    data = json.load(f)\n",
    "    \n",
    "df = json_normalize(data)\n",
    "df.to_csv('data/continents/africa/original/yesterday.csv', index=False)"
   ]
  },
  {
   "cell_type": "markdown",
   "id": "17e5dd19-4e82-486a-9795-19be82faf676",
   "metadata": {},
   "source": [
    "### africa/original/twoDaysAgo"
   ]
  },
  {
   "cell_type": "code",
   "execution_count": null,
   "id": "0a50e317-b0ab-4218-868e-7e20e5f697b4",
   "metadata": {},
   "outputs": [],
   "source": [
    "url = 'https://disease.sh/v3/covid-19/continents/africa?twoDaysAgo=true'\n",
    "payload = {}\n",
    "headers = {}\n",
    "response = requests.request(\"GET\", url, headers=headers, data=payload)\n",
    "\n",
    "with open('result.json', 'w', encoding='utf-8') as f:\n",
    "    f.write(json.dumps(response.text))\n",
    "\n",
    "with open('result.json') as file_object:\n",
    "    data = json.load(file_object)\n",
    "\n",
    "d = json.loads(data)\n",
    "with open('result.json', 'w', encoding='utf-8') as f:\n",
    "    f.write(json.dumps(d))\n",
    "\n",
    "with open('result.json') as f:\n",
    "    data = json.load(f)\n",
    "    \n",
    "df = json_normalize(data)\n",
    "df.to_csv('data/continents/africa/original/twoDaysAgo.csv', index=False)"
   ]
  },
  {
   "cell_type": "markdown",
   "id": "016c2ef7-1217-45ba-935a-54dceecb2d39",
   "metadata": {},
   "source": [
    "### europe/original/today"
   ]
  },
  {
   "cell_type": "code",
   "execution_count": null,
   "id": "d4280c1c-f655-4022-9100-98ecfd5bd833",
   "metadata": {},
   "outputs": [],
   "source": [
    "url = 'https://disease.sh/v3/covid-19/continents/europe?'\n",
    "payload = {}\n",
    "headers = {}\n",
    "response = requests.request(\"GET\", url, headers=headers, data=payload)\n",
    "\n",
    "with open('result.json', 'w', encoding='utf-8') as f:\n",
    "    f.write(json.dumps(response.text))\n",
    "\n",
    "with open('result.json') as file_object:\n",
    "    data = json.load(file_object)\n",
    "\n",
    "d = json.loads(data)\n",
    "with open('result.json', 'w', encoding='utf-8') as f:\n",
    "    f.write(json.dumps(d))\n",
    "\n",
    "with open('result.json') as f:\n",
    "    data = json.load(f)\n",
    "    \n",
    "df = json_normalize(data)\n",
    "df.to_csv('data/continents/europe/original/today.csv', index=False)"
   ]
  },
  {
   "cell_type": "markdown",
   "id": "8d953d58-2830-4e59-bab7-c4459576fa7b",
   "metadata": {},
   "source": [
    "### europe/original/yesterday"
   ]
  },
  {
   "cell_type": "code",
   "execution_count": null,
   "id": "305f45b7-8cec-49bb-bb04-5a01209ee513",
   "metadata": {},
   "outputs": [],
   "source": [
    "url = 'https://disease.sh/v3/covid-19/continents/europe?yesterday=true'\n",
    "payload = {}\n",
    "headers = {}\n",
    "response = requests.request(\"GET\", url, headers=headers, data=payload)\n",
    "\n",
    "with open('result.json', 'w', encoding='utf-8') as f:\n",
    "    f.write(json.dumps(response.text))\n",
    "\n",
    "with open('result.json') as file_object:\n",
    "    data = json.load(file_object)\n",
    "\n",
    "d = json.loads(data)\n",
    "with open('result.json', 'w', encoding='utf-8') as f:\n",
    "    f.write(json.dumps(d))\n",
    "\n",
    "with open('result.json') as f:\n",
    "    data = json.load(f)\n",
    "    \n",
    "df = json_normalize(data)\n",
    "df.to_csv('data/continents/europe/original/yesterday.csv', index=False)"
   ]
  },
  {
   "cell_type": "markdown",
   "id": "5e8f7979-3ad7-4bf0-9d29-70e1806e4a40",
   "metadata": {},
   "source": [
    "### europe/original/twoDaysAgo"
   ]
  },
  {
   "cell_type": "code",
   "execution_count": null,
   "id": "362ce76c-e2ea-40dd-a689-dbda3b5ae613",
   "metadata": {},
   "outputs": [],
   "source": [
    "url = 'https://disease.sh/v3/covid-19/continents/europe?twoDaysAgo=true'\n",
    "payload = {}\n",
    "headers = {}\n",
    "response = requests.request(\"GET\", url, headers=headers, data=payload)\n",
    "\n",
    "with open('result.json', 'w', encoding='utf-8') as f:\n",
    "    f.write(json.dumps(response.text))\n",
    "\n",
    "with open('result.json') as file_object:\n",
    "    data = json.load(file_object)\n",
    "\n",
    "d = json.loads(data)\n",
    "with open('result.json', 'w', encoding='utf-8') as f:\n",
    "    f.write(json.dumps(d))\n",
    "\n",
    "with open('result.json') as f:\n",
    "    data = json.load(f)\n",
    "    \n",
    "df = json_normalize(data)\n",
    "df.to_csv('data/continents/europe/original/twoDaysAgo.csv', index=False)"
   ]
  },
  {
   "cell_type": "markdown",
   "id": "960dabf4-ae5f-4feb-9e01-6b14fbee76eb",
   "metadata": {},
   "source": [
    "### north america/original/today"
   ]
  },
  {
   "cell_type": "code",
   "execution_count": null,
   "id": "c79c8aba-286e-492f-85a4-d653e00ff934",
   "metadata": {},
   "outputs": [],
   "source": [
    "url = 'https://disease.sh/v3/covid-19/continents/north%20america?'\n",
    "payload = {}\n",
    "headers = {}\n",
    "response = requests.request(\"GET\", url, headers=headers, data=payload)\n",
    "\n",
    "with open('result.json', 'w', encoding='utf-8') as f:\n",
    "    f.write(json.dumps(response.text))\n",
    "\n",
    "with open('result.json') as file_object:\n",
    "    data = json.load(file_object)\n",
    "\n",
    "d = json.loads(data)\n",
    "with open('result.json', 'w', encoding='utf-8') as f:\n",
    "    f.write(json.dumps(d))\n",
    "\n",
    "with open('result.json') as f:\n",
    "    data = json.load(f)\n",
    "    \n",
    "df = json_normalize(data)\n",
    "df.to_csv('data/continents/north america/original/today.csv', index=False)"
   ]
  },
  {
   "cell_type": "markdown",
   "id": "0ae3c476-ef0d-4ffe-a51f-09781610ffdf",
   "metadata": {},
   "source": [
    "### north america/original/yesterday"
   ]
  },
  {
   "cell_type": "code",
   "execution_count": null,
   "id": "08166e6d-eacc-49fa-9f64-fbffbe84d258",
   "metadata": {},
   "outputs": [],
   "source": [
    "url = 'https://disease.sh/v3/covid-19/continents/north%20america?yesterday=true'\n",
    "payload = {}\n",
    "headers = {}\n",
    "response = requests.request(\"GET\", url, headers=headers, data=payload)\n",
    "\n",
    "with open('result.json', 'w', encoding='utf-8') as f:\n",
    "    f.write(json.dumps(response.text))\n",
    "\n",
    "with open('result.json') as file_object:\n",
    "    data = json.load(file_object)\n",
    "\n",
    "d = json.loads(data)\n",
    "with open('result.json', 'w', encoding='utf-8') as f:\n",
    "    f.write(json.dumps(d))\n",
    "\n",
    "with open('result.json') as f:\n",
    "    data = json.load(f)\n",
    "    \n",
    "df = json_normalize(data)\n",
    "df.to_csv('data/continents/north america/original/yesterday.csv', index=False)"
   ]
  },
  {
   "cell_type": "markdown",
   "id": "90786b20-d09e-4d3b-a5c5-15b8a2a1e5ea",
   "metadata": {},
   "source": [
    "### north america/original/twoDaysAgo"
   ]
  },
  {
   "cell_type": "code",
   "execution_count": null,
   "id": "2950b30d-a7aa-46b8-aec3-b15c98a00642",
   "metadata": {},
   "outputs": [],
   "source": [
    "url = 'https://disease.sh/v3/covid-19/continents/north%20america?twoDaysAgo=true'\n",
    "payload = {}\n",
    "headers = {}\n",
    "response = requests.request(\"GET\", url, headers=headers, data=payload)\n",
    "\n",
    "with open('result.json', 'w', encoding='utf-8') as f:\n",
    "    f.write(json.dumps(response.text))\n",
    "\n",
    "with open('result.json') as file_object:\n",
    "    data = json.load(file_object)\n",
    "\n",
    "d = json.loads(data)\n",
    "with open('result.json', 'w', encoding='utf-8') as f:\n",
    "    f.write(json.dumps(d))\n",
    "\n",
    "with open('result.json') as f:\n",
    "    data = json.load(f)\n",
    "    \n",
    "df = json_normalize(data)\n",
    "df.to_csv('data/continents/north america/original/twoDaysAgo.csv', index=False)"
   ]
  },
  {
   "cell_type": "markdown",
   "id": "74c08fe6-75c0-49e2-9e52-30ebdcccc981",
   "metadata": {},
   "source": [
    "### oceania/original/today"
   ]
  },
  {
   "cell_type": "code",
   "execution_count": null,
   "id": "0c3bfabb-e523-418a-9142-4dd7bbad6cf1",
   "metadata": {},
   "outputs": [],
   "source": [
    "url = 'https://disease.sh/v3/covid-19/continents/oceania?'\n",
    "payload = {}\n",
    "headers = {}\n",
    "response = requests.request(\"GET\", url, headers=headers, data=payload)\n",
    "\n",
    "with open('result.json', 'w', encoding='utf-8') as f:\n",
    "    f.write(json.dumps(response.text))\n",
    "\n",
    "with open('result.json') as file_object:\n",
    "    data = json.load(file_object)\n",
    "\n",
    "d = json.loads(data)\n",
    "with open('result.json', 'w', encoding='utf-8') as f:\n",
    "    f.write(json.dumps(d))\n",
    "\n",
    "with open('result.json') as f:\n",
    "    data = json.load(f)\n",
    "    \n",
    "df = json_normalize(data)\n",
    "df.to_csv('data/continents/oceania/original/today.csv', index=False)"
   ]
  },
  {
   "cell_type": "markdown",
   "id": "4dfabb85-bfdb-4693-8477-370b4c26f3eb",
   "metadata": {},
   "source": [
    "### oceania/original/yesterday"
   ]
  },
  {
   "cell_type": "code",
   "execution_count": null,
   "id": "dac88ca8-388b-4162-b206-33a53aa82fab",
   "metadata": {},
   "outputs": [],
   "source": [
    "url = 'https://disease.sh/v3/covid-19/continents/oceania?yesterday=true'\n",
    "payload = {}\n",
    "headers = {}\n",
    "response = requests.request(\"GET\", url, headers=headers, data=payload)\n",
    "\n",
    "with open('result.json', 'w', encoding='utf-8') as f:\n",
    "    f.write(json.dumps(response.text))\n",
    "\n",
    "with open('result.json') as file_object:\n",
    "    data = json.load(file_object)\n",
    "\n",
    "d = json.loads(data)\n",
    "with open('result.json', 'w', encoding='utf-8') as f:\n",
    "    f.write(json.dumps(d))\n",
    "\n",
    "with open('result.json') as f:\n",
    "    data = json.load(f)\n",
    "    \n",
    "df = json_normalize(data)\n",
    "df.to_csv('data/continents/oceania/original/yesterday.csv', index=False)"
   ]
  },
  {
   "cell_type": "markdown",
   "id": "265f0f57-8550-43b6-90fc-6340b8591fc4",
   "metadata": {},
   "source": [
    "### oceania/original/twoDaysAgo"
   ]
  },
  {
   "cell_type": "code",
   "execution_count": null,
   "id": "923db6b2-c26b-4d08-8c83-b75f42b91b41",
   "metadata": {},
   "outputs": [],
   "source": [
    "url = 'https://disease.sh/v3/covid-19/continents/oceania?/twoDaysAgo=true'\n",
    "payload = {}\n",
    "headers = {}\n",
    "response = requests.request(\"GET\", url, headers=headers, data=payload)\n",
    "\n",
    "with open('result.json', 'w', encoding='utf-8') as f:\n",
    "    f.write(json.dumps(response.text))\n",
    "\n",
    "with open('result.json') as file_object:\n",
    "    data = json.load(file_object)\n",
    "\n",
    "d = json.loads(data)\n",
    "with open('result.json', 'w', encoding='utf-8') as f:\n",
    "    f.write(json.dumps(d))\n",
    "\n",
    "with open('result.json') as f:\n",
    "    data = json.load(f)\n",
    "    \n",
    "df = json_normalize(data)\n",
    "df.to_csv('data/continents/oceania/original/twoDaysAgo.csv', index=False)"
   ]
  },
  {
   "cell_type": "markdown",
   "id": "b0f408d4-5ee3-4d3d-ba76-bc1ce0c7fe79",
   "metadata": {},
   "source": [
    "### south america/original/today"
   ]
  },
  {
   "cell_type": "code",
   "execution_count": null,
   "id": "576a8b65-9870-4b13-822b-1ea899e3a4b6",
   "metadata": {},
   "outputs": [],
   "source": [
    "url = 'https://disease.sh/v3/covid-19/continents/south%20america?'\n",
    "payload = {}\n",
    "headers = {}\n",
    "response = requests.request(\"GET\", url, headers=headers, data=payload)\n",
    "\n",
    "with open('result.json', 'w', encoding='utf-8') as f:\n",
    "    f.write(json.dumps(response.text))\n",
    "\n",
    "with open('result.json') as file_object:\n",
    "    data = json.load(file_object)\n",
    "\n",
    "d = json.loads(data)\n",
    "with open('result.json', 'w', encoding='utf-8') as f:\n",
    "    f.write(json.dumps(d))\n",
    "\n",
    "with open('result.json') as f:\n",
    "    data = json.load(f)\n",
    "    \n",
    "df = json_normalize(data)\n",
    "df.to_csv('data/continents/south america/original/today.csv', index=False)"
   ]
  },
  {
   "cell_type": "markdown",
   "id": "49f8d8a7-3933-4f0a-9fa6-3274f0b31ef3",
   "metadata": {},
   "source": [
    "### south america/original/yesterday"
   ]
  },
  {
   "cell_type": "code",
   "execution_count": null,
   "id": "e7a4803a-cb78-4e16-a030-f8e001f022a3",
   "metadata": {},
   "outputs": [],
   "source": [
    "url = 'https://disease.sh/v3/covid-19/continents/south%20america?yesterday'\n",
    "payload = {}\n",
    "headers = {}\n",
    "response = requests.request(\"GET\", url, headers=headers, data=payload)\n",
    "\n",
    "with open('result.json', 'w', encoding='utf-8') as f:\n",
    "    f.write(json.dumps(response.text))\n",
    "\n",
    "with open('result.json') as file_object:\n",
    "    data = json.load(file_object)\n",
    "\n",
    "d = json.loads(data)\n",
    "with open('result.json', 'w', encoding='utf-8') as f:\n",
    "    f.write(json.dumps(d))\n",
    "\n",
    "with open('result.json') as f:\n",
    "    data = json.load(f)\n",
    "    \n",
    "df = json_normalize(data)\n",
    "df.to_csv('data/continents/south america/original/yesterday.csv', index=False)"
   ]
  },
  {
   "cell_type": "markdown",
   "id": "ecd2b3fc-6769-4038-911e-d50895864069",
   "metadata": {},
   "source": [
    "### south america/original/twoDaysAgo"
   ]
  },
  {
   "cell_type": "code",
   "execution_count": null,
   "id": "d3e6fd1e-6986-4e80-b773-58088cbd770d",
   "metadata": {},
   "outputs": [],
   "source": [
    "url = 'https://disease.sh/v3/covid-19/continents/south%20america?twoDaysAgo=true'\n",
    "payload = {}\n",
    "headers = {}\n",
    "response = requests.request(\"GET\", url, headers=headers, data=payload)\n",
    "\n",
    "with open('result.json', 'w', encoding='utf-8') as f:\n",
    "    f.write(json.dumps(response.text))\n",
    "\n",
    "with open('result.json') as file_object:\n",
    "    data = json.load(file_object)\n",
    "\n",
    "d = json.loads(data)\n",
    "with open('result.json', 'w', encoding='utf-8') as f:\n",
    "    f.write(json.dumps(d))\n",
    "\n",
    "with open('result.json') as f:\n",
    "    data = json.load(f)\n",
    "    \n",
    "df = json_normalize(data)\n",
    "df.to_csv('data/continents/south america/original/twoDaysAgo.csv', index=False)"
   ]
  },
  {
   "cell_type": "markdown",
   "id": "1866a9ab-4573-413c-8e7d-c5bf290f3a86",
   "metadata": {},
   "source": [
    "### Vietnam/original/today"
   ]
  },
  {
   "cell_type": "code",
   "execution_count": null,
   "id": "b81d173d-799d-458d-8ecb-0491a7df3137",
   "metadata": {},
   "outputs": [],
   "source": [
    "url = \"https://disease.sh/v3/covid-19/countries/Vietnam?\"\n",
    "payload = {}\n",
    "headers = {}\n",
    "response = requests.request(\"GET\", url, headers=headers, data=payload)\n",
    "\n",
    "with open('result.json', 'w', encoding='utf-8') as f:\n",
    "    f.write(json.dumps(response.text))\n",
    "\n",
    "with open('result.json') as file_object:\n",
    "    data = json.load(file_object)\n",
    "\n",
    "d = json.loads(data)\n",
    "with open('result.json', 'w', encoding='utf-8') as f:\n",
    "    f.write(json.dumps(d))\n",
    "\n",
    "with open('result.json') as f:\n",
    "    data = json.load(f)\n",
    "\n",
    "df = json_normalize(data)\n",
    "df.to_csv('data/vietnam/original/today.csv', index=False)"
   ]
  },
  {
   "cell_type": "markdown",
   "id": "d7211c8a-8370-4059-85ba-33c44b17f44b",
   "metadata": {},
   "source": [
    "### Vietnam/original/yesterday"
   ]
  },
  {
   "cell_type": "code",
   "execution_count": null,
   "id": "48f51057-684a-4ea1-8902-f518df6cf281",
   "metadata": {},
   "outputs": [],
   "source": [
    "url = \"https://disease.sh/v3/covid-19/countries/Vietnam?yesterday=true\"\n",
    "payload = {}\n",
    "headers = {}\n",
    "response = requests.request(\"GET\", url, headers=headers, data=payload)\n",
    "\n",
    "with open('result.json', 'w', encoding='utf-8') as f:\n",
    "    f.write(json.dumps(response.text))\n",
    "\n",
    "with open('result.json') as file_object:\n",
    "    data = json.load(file_object)\n",
    "\n",
    "d = json.loads(data)\n",
    "with open('result.json', 'w', encoding='utf-8') as f:\n",
    "    f.write(json.dumps(d))\n",
    "\n",
    "with open('result.json') as f:\n",
    "    data = json.load(f)\n",
    "\n",
    "df = json_normalize(data)\n",
    "df.to_csv('data/vietnam/original/yesterday.csv', index=False)"
   ]
  },
  {
   "cell_type": "markdown",
   "id": "5338fb22-2223-4bc2-a33f-b33cdc5cdaa5",
   "metadata": {},
   "source": [
    "### Vietnam/original/twoDaysAgo"
   ]
  },
  {
   "cell_type": "code",
   "execution_count": null,
   "id": "975b5ea1-a733-4bc5-958b-81a02364b6a3",
   "metadata": {},
   "outputs": [],
   "source": [
    "url = \"https://disease.sh/v3/covid-19/countries/Vietnam?twoDaysAgo=true\"\n",
    "payload = {}\n",
    "headers = {}\n",
    "response = requests.request(\"GET\", url, headers=headers, data=payload)\n",
    "\n",
    "with open('result.json', 'w', encoding='utf-8') as f:\n",
    "    f.write(json.dumps(response.text))\n",
    "\n",
    "with open('result.json') as file_object:\n",
    "    data = json.load(file_object)\n",
    "\n",
    "d = json.loads(data)\n",
    "with open('result.json', 'w', encoding='utf-8') as f:\n",
    "    f.write(json.dumps(d))\n",
    "\n",
    "with open('result.json') as f:\n",
    "    data = json.load(f)\n",
    "\n",
    "df = json_normalize(data)\n",
    "df.to_csv('data/vietnam/original/twoDaysAgo.csv', index=False)"
   ]
  },
  {
   "cell_type": "markdown",
   "id": "d36098c7-1269-4444-b27f-24ffff11d289",
   "metadata": {},
   "source": [
    "### Vietnam/original/lastdays"
   ]
  },
  {
   "cell_type": "code",
   "execution_count": null,
   "id": "7d921810-bfa3-4e58-b78e-82b72b074fa8",
   "metadata": {},
   "outputs": [],
   "source": [
    "url = \"https://corona.lmao.ninja/v2/historical/USA?lastdays=30\"\n",
    "payload = {}\n",
    "headers = {}\n",
    "response = requests.request(\"GET\", url, headers=headers, data=payload)\n",
    "\n",
    "with open('result.json', 'w', encoding='utf-8') as f:\n",
    "    f.write(json.dumps(response.text))\n",
    "\n",
    "with open('result.json') as file_object:\n",
    "    data = json.load(file_object)\n",
    "\n",
    "d = json.loads(data)\n",
    "with open('result.json', 'w', encoding='utf-8') as f:\n",
    "    f.write(json.dumps(d))\n",
    "\n",
    "with open('result.json') as f:\n",
    "    data = json.load(f)\n",
    "\n",
    "df = json_normalize(data)\n",
    "df.to_csv('data/etc/lastdays.csv', index=False)"
   ]
  },
  {
   "cell_type": "markdown",
   "id": "8820568b-9cda-4f93-99fe-69df73a9aec8",
   "metadata": {},
   "source": [
    "# tiền xử lý dữ liệu\n",
    "______________________________________________"
   ]
  },
  {
   "cell_type": "markdown",
   "id": "a9973662-7cd1-48d0-8129-e199c696d71e",
   "metadata": {},
   "source": [
    "### Vietnam/original/lastdays"
   ]
  },
  {
   "cell_type": "code",
   "execution_count": null,
   "id": "766f6f08-8866-452c-8e77-75909e5e2316",
   "metadata": {},
   "outputs": [],
   "source": [
    "url = \"https://corona.lmao.ninja/v2/historical/Vietnam?lastdays=30\"\n",
    "payload = {}\n",
    "headers = {}\n",
    "response = requests.request(\"GET\", url, headers=headers, data=payload)\n",
    "\n",
    "with open('result.json', 'w', encoding='utf-8') as f:\n",
    "    f.write(json.dumps(response.text))\n",
    "\n",
    "with open('result.json') as file_object:\n",
    "    data = json.load(file_object)\n",
    "\n",
    "d = json.loads(data)\n",
    "with open('result.json', 'w', encoding='utf-8') as f:\n",
    "    f.write(json.dumps(d))\n",
    "\n",
    "with open('result.json') as f:\n",
    "    data = json.load(f)\n",
    "\n",
    "csv_file = open(\"data/vietnam/modified/lastdays/cases.csv\", \"w\")\n",
    "writer = csv.writer(csv_file)\n",
    "writer.writerow(['timeline', 'cases'])\n",
    "for key, value in data['timeline']['cases'].items():\n",
    "    writer.writerow([datetime.strptime(key, '%m/%d/%y').strftime(\"%d/%m/%y\"), value])\n",
    "csv_file.close()\n",
    "\n",
    "csv_file = open(\"data/vietnam/modified/lastdays/deaths.csv\", \"w\")\n",
    "writer = csv.writer(csv_file)\n",
    "writer.writerow(['timeline', 'deaths'])\n",
    "for key, value in data['timeline']['deaths'].items():\n",
    "    writer.writerow([datetime.strptime(key, '%m/%d/%y').strftime(\"%d/%m/%y\"), value])\n",
    "csv_file.close()\n",
    "\n",
    "csv_file = open(\"data/vietnam/modified/lastdays/recovered.csv\", \"w\")\n",
    "writer = csv.writer(csv_file)\n",
    "writer.writerow(['timeline', 'recovered'])\n",
    "for key, value in data['timeline']['recovered'].items():\n",
    "    writer.writerow([datetime.strptime(key, '%m/%d/%y').strftime(\"%d/%m/%y\"), value])\n",
    "csv_file.close()"
   ]
  },
  {
   "cell_type": "markdown",
   "id": "48e0d916-5f97-4104-9dda-47fdedd28641",
   "metadata": {},
   "source": [
    "### world/original/lastdays"
   ]
  },
  {
   "cell_type": "code",
   "execution_count": 2,
   "id": "6a0910f2-1424-43aa-a036-5a942a710643",
   "metadata": {
    "tags": []
   },
   "outputs": [],
   "source": [
    "url = \"https://corona.lmao.ninja/v2/historical/all?lastdays=60\"\n",
    "payload = {}\n",
    "headers = {}\n",
    "response = requests.request(\"GET\", url, headers=headers, data=payload)\n",
    "\n",
    "with open('result.json', 'w', encoding='utf-8') as f:\n",
    "    f.write(json.dumps(response.text))\n",
    "\n",
    "with open('result.json') as file_object:\n",
    "    data = json.load(file_object)\n",
    "\n",
    "d = json.loads(data)\n",
    "with open('result.json', 'w', encoding='utf-8') as f:\n",
    "    f.write(json.dumps(d))\n",
    "\n",
    "with open('result.json') as f:\n",
    "    data = json.load(f)\n",
    "\n",
    "csv_file = open(\"data/world/modified/lastdays/cases.csv\", \"w\")\n",
    "writer = csv.writer(csv_file)\n",
    "writer.writerow(['timeline','cases'])\n",
    "for key, value in data['cases'].items():\n",
    "    writer.writerow([datetime.strptime(key, '%m/%d/%y').strftime(\"%d/%m/%y\"),value])\n",
    "csv_file.close()\n",
    "\n",
    "csv_file = open(\"data/world/modified/lastdays/deaths.csv\", \"w\")\n",
    "writer = csv.writer(csv_file)\n",
    "writer.writerow(['timeline','deaths'])\n",
    "for key, value in data['cases'].items():\n",
    "    writer.writerow([datetime.strptime(key, '%m/%d/%y').strftime(\"%d/%m/%y\"),value])\n",
    "csv_file.close()\n",
    "\n",
    "csv_file = open(\"data/world/modified/lastdays/recovered.csv\", \"w\")\n",
    "writer = csv.writer(csv_file)\n",
    "writer.writerow(['timeline','recovered'])\n",
    "for key, value in data['cases'].items():\n",
    "    writer.writerow([datetime.strptime(key, '%m/%d/%y').strftime(\"%d/%m/%y\"),value])\n",
    "csv_file.close()"
   ]
  },
  {
   "cell_type": "markdown",
   "id": "12d2fc37-900c-4722-ac9c-d891ae875c25",
   "metadata": {},
   "source": [
    "### countries/original/today"
   ]
  },
  {
   "cell_type": "code",
   "execution_count": null,
   "id": "940b9324-3024-4cfd-83a6-e970f79109d8",
   "metadata": {},
   "outputs": [],
   "source": [
    "world = pd.read_csv('data/world/original/countries.csv', usecols = ['country','cases','deaths','recovered','tests','critical','active'])\n",
    "countries = world['country'].values\n",
    "cases_today = world['cases'].values\n",
    "deaths_today = world['deaths'].values\n",
    "tests_today = world['tests'].values\n",
    "\n",
    "dict_data = dict(zip(countries, cases_today))\n",
    "path = open(\"data/world/modified/today/cases.csv\", \"w\")\n",
    "writer = csv.writer(path)\n",
    "writer.writerow(['country','cases'])\n",
    "for key,value in dict_data.items():\n",
    "    writer.writerow([key,value])\n",
    "path.close()\n",
    "\n",
    "dict_data1 = dict(zip(countries, deaths_today))\n",
    "path = open(\"data/world/modified/today/deaths.csv\", \"w\")\n",
    "writer = csv.writer(path)\n",
    "writer.writerow(['country','deaths'])\n",
    "for key,value in dict_data1.items():\n",
    "    writer.writerow([key,value])\n",
    "path.close()\n",
    "\n",
    "dict_data2 = dict(zip(countries, tests_today))\n",
    "path = open(\"data/world/modified/today/tests.csv\", \"w\")\n",
    "writer = csv.writer(path)\n",
    "writer.writerow(['country','tests'])\n",
    "for key,value in dict_data2.items():\n",
    "    writer.writerow([key,value])\n",
    "path.close()"
   ]
  },
  {
   "cell_type": "code",
   "execution_count": null,
   "id": "2c5e2678-b196-4d04-9ce1-e3eaa38d9ab6",
   "metadata": {},
   "outputs": [],
   "source": []
  }
 ],
 "metadata": {
  "kernelspec": {
   "display_name": "Python 3",
   "language": "python",
   "name": "python3"
  },
  "language_info": {
   "codemirror_mode": {
    "name": "ipython",
    "version": 3
   },
   "file_extension": ".py",
   "mimetype": "text/x-python",
   "name": "python",
   "nbconvert_exporter": "python",
   "pygments_lexer": "ipython3",
   "version": "3.8.8"
  }
 },
 "nbformat": 4,
 "nbformat_minor": 5
}
